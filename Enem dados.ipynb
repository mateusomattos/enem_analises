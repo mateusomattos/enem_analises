{
 "cells": [
  {
   "cell_type": "code",
   "execution_count": 29,
   "metadata": {},
   "outputs": [],
   "source": [
    "from pyspark.sql import SparkSession\n",
    "import os\n",
    "import pandas as pd\n",
    "import seaborn as sns\n",
    "\n",
    "base_dir = 'microdados_enem_2019'\n"
   ]
  },
  {
   "cell_type": "code",
   "execution_count": null,
   "metadata": {},
   "outputs": [],
   "source": [
    "spark = SparkSession \\\n",
    "    .builder \\\n",
    "    .appName(\"Python Spark SQL basic example\") \\\n",
    "    .config(\"spark.some.config.option\", \"some-value\") \\\n",
    "    .getOrCreate()"
   ]
  },
  {
   "cell_type": "markdown",
   "metadata": {},
   "source": [
    "## Objetivo\n",
    "O objetivo desse estudo é verificar possíveis estudantes para cursos particulares. Para isso, será utilizado o banco de dados das notas referente ao ENEM 2019. Utilizando os dados de localização, notas, ano de conclusão do ensino médio, idade e a renda mensal da família, serão identificados nichos para o negócio.\n",
    "\n",
    "## Carregando os dados"
   ]
  },
  {
   "cell_type": "code",
   "execution_count": 6,
   "metadata": {},
   "outputs": [],
   "source": [
    "file_name = 'DADOS/MICRODADOS_ENEM_2019.csv'\n",
    "file_direction = os.path.join(base_dir, file_name)\n",
    "\n",
    "df = spark.read.csv(file_direction,header=True,sep=\";\")\n"
   ]
  },
  {
   "attachments": {},
   "cell_type": "markdown",
   "metadata": {},
   "source": [
    "Baseado no arquvio \"Dicionário_Microdados_Enem_2019\", serão utilizadas os seguintes dados para a análise:\n",
    "- 'NU_INSCRICAO' - Número de inscrição\n",
    "- 'CO_MUNICIPIO_RESIDENCIA' - Código do município de residencia\n",
    "- 'NO_MUNICIPIO_RESIDENCIA' - Nome do município de residencia\n",
    "- 'SG_UF_RESIDENCIA' - Sigla da UF\n",
    "- 'NU_IDADE' - Idade\n",
    "- 'TP_SEXO' - Sexo\n",
    "- 'TP_ST_CONCLUSAO' - Situação de conclusão do ensino médio\n",
    "    - 1-Já concluí o Ensino Médio                 \n",
    "    - 2-Estou cursando e concluirei o Ensino Médio em 2019                  \n",
    "    - 3-Estou cursando e concluirei o Ensino Médio após 2019                  \n",
    "    - 4-Não concluí e não estou cursando o Ensino Médio\n",
    "- 'TP_ANO_CONCLUIU' - Ao de conclusão do ensino médio\n",
    "- 'TP_ESCOLA' - Tipo de escola \n",
    "    - 1-Não Respondeu\n",
    "    - 2-Pública\n",
    "    - 3-Privada\n",
    "    - 4-Exterior\n",
    "- 'CO_ESCOLA' - Código da escola\n",
    "- 'CO_MUNICIPIO_ESC' - Código do municipio da escola\n",
    "- 'SG_UF_ESC' - Sigla da UF da escola\n",
    "- 'TP_DEPENDENCIA_ADM_ESC' - Dependencia admnistrativa da escola\n",
    "    - 1-Federal\n",
    "    - 2-Estadual\n",
    "    - 3-Municipal\n",
    "    - 4-Privada\n",
    "- 'TP_PRESENCA_CN' - Presença na prova objetiva de Ciências da Natureza\n",
    "- 'TP_PRESENCA_CH' - Presença na prova objetiva de Ciências Humanas\n",
    "- 'TP_PRESENCA_LC' - Presença na prova objetiva de Linguagens e Códigos\n",
    "- 'TP_PRESENCA_MT' - Presença na prova objetiva de Matemática\n",
    "- 'NU_NOTA_CN' - Nota da prova de Ciências da Natureza\n",
    "- 'NU_NOTA_CH' - Nota da prova de Ciências Humanas\n",
    "- 'NU_NOTA_LC' - Nota da prova de Linguagens e Códigos\n",
    "- 'NU_NOTA_MT' - Nota da prova de Matemática\n",
    "- 'NU_NOTA_REDACAO' - Nota da redação\n",
    "- 'Q006' - Renda mensal da família\n",
    "    - A-Nenhuma renda\n",
    "    - B-Até R\\\\$ 998,00.\n",
    "    - C-De R\\\\$ 998,01 até R\\\\$ 1.497,00.\n",
    "    - D-De R\\\\$ 1.497,01 até R\\\\$ 1.996,00.\n",
    "    - E-De R\\\\$ 1.996,01 até R\\\\$ 2.495,00.\n",
    "    - F-De R\\\\$ 2.495,01 até R\\\\$ 2.994,00.\n",
    "    - G-De R\\\\$ 2.994,01 até R\\\\$ 3.992,00.\n",
    "    - H-De R\\\\$ 3.992,01 até R\\\\$ 4.990,00.\n",
    "    - I-De R\\\\$ 4.990,01 até R\\\\$ 5.988,00.\n",
    "    - J-De R\\\\$ 5.988,01 até R\\\\$ 6.986,00.\n",
    "    - K-De R\\\\$ 6.986,01 até R\\\\$ 7.984,00.\n",
    "    - L-De R\\\\$ 7.984,01 até R\\\\$ 8.982,00.\n",
    "    - M-De R\\\\$ 8.982,01 até R\\\\$ 9.980,00.\n",
    "    - N-De R\\\\$ 9.980,01 até R\\\\$ 11.976,00.\n",
    "    - O-De R\\\\$ 11.976,01 até R\\\\$ 14.970,00.\n",
    "    - P-De R\\\\$ 14.970,01 até R\\\\$ 19.960,00.\n",
    "    - Q-Mais de R\\\\$ 19.960,00.\n",
    "\n",
    "\n",
    "\n"
   ]
  },
  {
   "cell_type": "code",
   "execution_count": 163,
   "metadata": {},
   "outputs": [],
   "source": [
    "columns = ['NU_INSCRICAO',\n",
    "           'CO_MUNICIPIO_RESIDENCIA', \n",
    "           'NO_MUNICIPIO_RESIDENCIA',\n",
    "           'SG_UF_RESIDENCIA',\n",
    "           'NU_IDADE',\n",
    "           'TP_SEXO',\n",
    "           'TP_ST_CONCLUSAO',\n",
    "           'TP_ANO_CONCLUIU',\n",
    "           'TP_ESCOLA',\n",
    "           'CO_ESCOLA',\n",
    "           'CO_MUNICIPIO_ESC',\n",
    "           'SG_UF_ESC',\n",
    "           'TP_DEPENDENCIA_ADM_ESC',\n",
    "           'TP_PRESENCA_CN',\n",
    "           'TP_PRESENCA_CH',\n",
    "           'TP_PRESENCA_LC',\n",
    "           'TP_PRESENCA_MT',\n",
    "           'NU_NOTA_CN',\n",
    "           'NU_NOTA_CH',\n",
    "           'NU_NOTA_LC',\n",
    "           'NU_NOTA_MT',\n",
    "           'NU_NOTA_REDACAO',\n",
    "           'Q006',\n",
    "           'Q005']\n",
    "df_filtered = df.select(columns)"
   ]
  },
  {
   "cell_type": "markdown",
   "metadata": {},
   "source": [
    "## Estudantes de rede publica e privadas"
   ]
  },
  {
   "cell_type": "code",
   "execution_count": 123,
   "metadata": {},
   "outputs": [],
   "source": [
    "tipo_escolas = df_filtered.groupby(['TP_ESCOLA']).count()"
   ]
  },
  {
   "cell_type": "code",
   "execution_count": 118,
   "metadata": {},
   "outputs": [
    {
     "data": {
      "image/png": "[encoded data removed]",
      "text/plain": [
       "<Figure size 432x288 with 1 Axes>"
      ]
     },
     "metadata": {
      "needs_background": "light"
     },
     "output_type": "display_data"
    }
   ],
   "source": [
    "dfpd_tipo_escolas = tipo_escolas.toPandas()\n",
    "dfpd_tipo_escolas = dfpd_tipo_escolas.rename(columns = {'TP_ESCOLA' : 'Escola', 'count' : '# alunos'})\n",
    "dfpd_tipo_escolas = dfpd_tipo_escolas.sort_values(by = '# alunos')\n",
    "sns.barplot(data = dfpd_tipo_escolas , x = 'Escola', y = '# alunos', palette = 'Blues_d');"
   ]
  },
  {
   "cell_type": "code",
   "execution_count": 124,
   "metadata": {},
   "outputs": [
    {
     "name": "stdout",
     "output_type": "stream",
     "text": [
      "+---------+-------+\n",
      "|TP_ESCOLA|  count|\n",
      "+---------+-------+\n",
      "|        3| 218632|\n",
      "|        1|3629376|\n",
      "|        2|1247262|\n",
      "+---------+-------+\n",
      "\n"
     ]
    }
   ],
   "source": [
    "tipo_escolas.show()\n"
   ]
  },
  {
   "cell_type": "code",
   "execution_count": 122,
   "metadata": {},
   "outputs": [
    {
     "name": "stdout",
     "output_type": "stream",
     "text": [
      "+----------------------+-------+\n",
      "|TP_DEPENDENCIA_ADM_ESC|  count|\n",
      "+----------------------+-------+\n",
      "|                     3|   9650|\n",
      "|                  null|3947858|\n",
      "|                     1|  49091|\n",
      "|                     4| 164333|\n",
      "|                     2| 924338|\n",
      "+----------------------+-------+\n",
      "\n"
     ]
    }
   ],
   "source": [
    "tipo_escolas2 = df_filtered.groupby(['TP_DEPENDENCIA_ADM_ESC']).count()\n",
    "tipo_escolas2.show()"
   ]
  },
  {
   "cell_type": "markdown",
   "metadata": {},
   "source": [
    "### Analisando a renda"
   ]
  },
  {
   "cell_type": "code",
   "execution_count": 119,
   "metadata": {},
   "outputs": [],
   "source": [
    "renda = df_filtered.groupby('Q006').count()"
   ]
  },
  {
   "cell_type": "code",
   "execution_count": 88,
   "metadata": {},
   "outputs": [
    {
     "data": {
      "image/png": "[encoded data removed]",
      "text/plain": [
       "<Figure size 432x288 with 1 Axes>"
      ]
     },
     "metadata": {
      "needs_background": "light"
     },
     "output_type": "display_data"
    }
   ],
   "source": [
    "dfpd_rendas = renda.toPandas().sort_values(by = 'Q006')\n",
    "dfpd_rendas = dfpd_rendas.rename(columns = {'Q006' : 'Faixa de renda', 'count' : 'Porcentagem'})\n",
    "dfpd_rendas['Porcentagem'] = dfpd_rendas['Porcentagem']/dfpd_rendas['Porcentagem'].sum()\n",
    "\n",
    "sns.barplot(data = dfpd_rendas , x = 'Faixa de renda', y = 'Porcentagem', palette = 'Blues_d');"
   ]
  },
  {
   "cell_type": "markdown",
   "metadata": {},
   "source": [
    "Como observado, em sua grande maioria os estudantes estão na fixa B e C, ou seja, entre R\\\\$998,00 e R\\\\$1497,00. Vamos analisar agora o faixa de renda por escola estudada (privada ou pública)"
   ]
  },
  {
   "cell_type": "code",
   "execution_count": 100,
   "metadata": {},
   "outputs": [],
   "source": [
    "reda_escolas = df_filtered.groupby(['Q006', 'TP_ESCOLA']).count()\n",
    "\n",
    "dfpd_rendas_escolas = reda_escolas.toPandas().sort_values(by = 'Q006')\n",
    "dfpd_rendas_escolas = dfpd_rendas_escolas.rename(columns = {'Q006' : 'Faixa de renda', \n",
    "                                                            'count' : 'Porcentagem',\n",
    "                                                            'TP_ESCOLA' : 'Tipo de Escola'})\n"
   ]
  },
  {
   "cell_type": "code",
   "execution_count": 109,
   "metadata": {},
   "outputs": [
    {
     "data": {
      "image/png": "[encoded data removed]",
      "text/plain": [
       "<Figure size 432x288 with 1 Axes>"
      ]
     },
     "metadata": {
      "needs_background": "light"
     },
     "output_type": "display_data"
    }
   ],
   "source": [
    "df_count_rendas = dfpd_rendas_escolas.groupby('Tipo de Escola').sum()\n",
    "df_count_rendas = df_count_rendas.rename(columns = {'Porcentagem' : 'count_alunos'})\n",
    "dfpd_rendas_escolas = dfpd_rendas_escolas.merge(df_count_rendas, on = 'Tipo de Escola')\n",
    "dfpd_rendas_escolas['Porcentagem'] = dfpd_rendas_escolas['Porcentagem']/dfpd_rendas_escolas['count_alunos']\n",
    "\n",
    "\n",
    "sns.barplot(data = dfpd_rendas_escolas[(dfpd_rendas_escolas['Tipo de Escola'] == '2') | (dfpd_rendas_escolas['Tipo de Escola'] == '3')] , x = 'Faixa de renda', y = 'Porcentagem', hue = 'Tipo de Escola', palette = 'Blues_d');"
   ]
  },
  {
   "cell_type": "markdown",
   "metadata": {},
   "source": [
    "Como visto, os alunos de escolas públicas são predominantemente dos grupos B e C. Já os alunos de instituições privadas são de diversos grupos, tendo boa parte concentrada nos grupos C, G, H, I e Q."
   ]
  },
  {
   "cell_type": "markdown",
   "metadata": {},
   "source": [
    "## Análise por estados\n",
    "Focando apenas nos estados do Sudeste, vamos verificar a renda dos estudantes e o tipo de escola (pública ou privada)"
   ]
  },
  {
   "cell_type": "code",
   "execution_count": 125,
   "metadata": {},
   "outputs": [],
   "source": [
    "salario_estados = df_filtered.groupby(['SG_UF_RESIDENCIA', 'Q006']).count()\n",
    "salario_estados_pd = salario_estados.toPandas()"
   ]
  },
  {
   "cell_type": "code",
   "execution_count": 160,
   "metadata": {},
   "outputs": [],
   "source": [
    "dados_renda_SE = (salario_estados_pd[salario_estados_pd.SG_UF_RESIDENCIA.isin(['MG', 'SP', 'RJ', 'ES'])].\n",
    "groupby(['Q006', 'SG_UF_RESIDENCIA']).first()).reset_index()"
   ]
  },
  {
   "cell_type": "code",
   "execution_count": 161,
   "metadata": {
    "scrolled": false
   },
   "outputs": [],
   "source": [
    "estudantes_estado = dados_renda_SE.groupby('SG_UF_RESIDENCIA').agg({'count' : 'sum'})\n",
    "estudantes_estado = estudantes_estado.rename(columns = {'count' : 'tot_est'})\n",
    "dados_renda_SE = dados_renda_SE.merge(estudantes_estado, on = 'SG_UF_RESIDENCIA')\n",
    "dados_renda_SE['porcent'] = dados_renda_SE['count']/dados_renda_SE.tot_est\n"
   ]
  },
  {
   "cell_type": "code",
   "execution_count": 162,
   "metadata": {},
   "outputs": [
    {
     "data": {
      "text/plain": [
       "<AxesSubplot:xlabel='Q006', ylabel='porcent'>"
      ]
     },
     "execution_count": 162,
     "metadata": {},
     "output_type": "execute_result"
    },
    {
     "data": {
      "image/png": "[encoded data removed]",
      "text/plain": [
       "<Figure size 432x288 with 1 Axes>"
      ]
     },
     "metadata": {
      "needs_background": "light"
     },
     "output_type": "display_data"
    }
   ],
   "source": [
    "sns.barplot(data = dados_renda_SE, x = 'Q006', y = 'porcent', hue = 'SG_UF_RESIDENCIA')"
   ]
  },
  {
   "cell_type": "markdown",
   "metadata": {},
   "source": [
    "Dadas as rendas\n",
    "- A-Nenhuma renda\n",
    "- B-Até R\\\\$ 998,00.\n",
    "- C-De R\\\\$ 998,01 até R\\\\$ 1.497,00.\n",
    "- D-De R\\\\$ 1.497,01 até R\\\\$ 1.996,00.\n",
    "- E-De R\\\\$ 1.996,01 até R\\\\$ 2.495,00.\n",
    "- F-De R\\\\$ 2.495,01 até R\\\\$ 2.994,00.\n",
    "- G-De R\\\\$ 2.994,01 até R\\\\$ 3.992,00.\n",
    "- H-De R\\\\$ 3.992,01 até R\\\\$ 4.990,00.\n",
    "- I-De R\\\\$ 4.990,01 até R\\\\$ 5.988,00.\n",
    "- J-De R\\\\$ 5.988,01 até R\\\\$ 6.986,00.\n",
    "- K-De R\\\\$ 6.986,01 até R\\\\$ 7.984,00.\n",
    "- L-De R\\\\$ 7.984,01 até R\\\\$ 8.982,00.\n",
    "- M-De R\\\\$ 8.982,01 até R\\\\$ 9.980,00.\n",
    "- N-De R\\\\$ 9.980,01 até R\\\\$ 11.976,00.\n",
    "- O-De R\\\\$ 11.976,01 até R\\\\$ 14.970,00.\n",
    "- P-De R\\\\$ 14.970,01 até R\\\\$ 19.960,00.\n",
    "- Q-Mais de R\\\\$ 19.960,00.\n",
    "\n",
    "e observando o gráfico, é possível ver que o estado de São Paulo possui uma maior proporção de estudantes com renda familiar maior que os outros estados. \n"
   ]
  },
  {
   "cell_type": "code",
   "execution_count": 165,
   "metadata": {},
   "outputs": [],
   "source": [
    "salario_estados_percp = df_filtered.groupby(['SG_UF_RESIDENCIA', 'Q006', 'Q005']).count()\n",
    "dfpd_percp = salario_estados_percp.toPandas()"
   ]
  },
  {
   "cell_type": "code",
   "execution_count": 175,
   "metadata": {},
   "outputs": [],
   "source": [
    "dfpd_percp_SE = (dfpd_percp[dfpd_percp.SG_UF_RESIDENCIA.isin(['MG', 'SP', 'RJ', 'ES'])].\n",
    "groupby(['Q006', 'Q005', 'SG_UF_RESIDENCIA']).first()).reset_index()\n",
    "dfpd_percp_SE = dfpd_percp_SE.merge(estudantes_estado, on = 'SG_UF_RESIDENCIA')\n",
    "dfpd_percp_SE['porcent'] = dfpd_percp_SE['count']/dfpd_percp_SE.tot_est\n"
   ]
  },
  {
   "cell_type": "code",
   "execution_count": 185,
   "metadata": {},
   "outputs": [
    {
     "data": {
      "text/plain": [
       "<AxesSubplot:xlabel='Q005', ylabel='porcent'>"
      ]
     },
     "execution_count": 185,
     "metadata": {},
     "output_type": "execute_result"
    },
    {
     "data": {
      "image/png": "[encoded data removed]",
      "text/plain": [
       "<Figure size 432x288 with 1 Axes>"
      ]
     },
     "metadata": {
      "needs_background": "light"
     },
     "output_type": "display_data"
    }
   ],
   "source": [
    "(sns.barplot(data = dfpd_percp_SE.groupby(['SG_UF_RESIDENCIA', 'Q005']).agg({'porcent' : 'sum'}).reset_index().sort_values(by = 'Q005'),\n",
    "             x = 'Q005', y = 'porcent', hue = 'SG_UF_RESIDENCIA'))"
   ]
  },
  {
   "cell_type": "code",
   "execution_count": 48,
   "metadata": {},
   "outputs": [],
   "source": [
    "scores_type_school = df_filtered.groupby('TP_DEPENDENCIA_ADM_ESC').agg({'NU_NOTA_CN' : 'mean',\n",
    "                                                                        'NU_NOTA_CH' : 'mean',\n",
    "                                                                        'NU_NOTA_LC' : 'mean',\n",
    "                                                                        'NU_NOTA_MT' : 'mean',\n",
    "                                                                        'NU_NOTA_REDACAO' : 'mean'})"
   ]
  },
  {
   "cell_type": "code",
   "execution_count": 49,
   "metadata": {},
   "outputs": [],
   "source": [
    "df_pandas_scores = scores_type_school.toPandas()"
   ]
  },
  {
   "cell_type": "code",
   "execution_count": 50,
   "metadata": {},
   "outputs": [],
   "source": [
    "dict_type_school = {'1' : \"Federal\", \n",
    "                    '2' : \"Estadual\", \n",
    "                    '3' : \"Municipal\", \n",
    "                    '4': \"Privada\"}\n",
    "df_pandas_scores = df_pandas_scores.replace({'TP_DEPENDENCIA_ADM_ESC' : dict_type_school})"
   ]
  },
  {
   "cell_type": "code",
   "execution_count": 64,
   "metadata": {},
   "outputs": [
    {
     "data": {
      "text/plain": [
       "<AxesSubplot:ylabel='avg(NU_NOTA_CN)'>"
      ]
     },
     "execution_count": 64,
     "metadata": {},
     "output_type": "execute_result"
    },
    {
     "data": {
      "image/png": "[encoded data removed]",
      "text/plain": [
       "<Figure size 432x288 with 1 Axes>"
      ]
     },
     "metadata": {
      "needs_background": "light"
     },
     "output_type": "display_data"
    }
   ],
   "source": [
    "sns.barplot(data = a, y = 'avg(NU_NOTA_CN)', hue = 'TP_DEPENDENCIA_ADM_ESC')"
   ]
  },
  {
   "cell_type": "code",
   "execution_count": 69,
   "metadata": {},
   "outputs": [],
   "source": [
    "a = df_pandas_scores.stack()"
   ]
  },
  {
   "cell_type": "code",
   "execution_count": 110,
   "metadata": {},
   "outputs": [
    {
     "data": {
      "text/html": [
       "<div>\n",
       "<style scoped>\n",
       "    .dataframe tbody tr th:only-of-type {\n",
       "        vertical-align: middle;\n",
       "    }\n",
       "\n",
       "    .dataframe tbody tr th {\n",
       "        vertical-align: top;\n",
       "    }\n",
       "\n",
       "    .dataframe thead th {\n",
       "        text-align: right;\n",
       "    }\n",
       "</style>\n",
       "<table border=\"1\" class=\"dataframe\">\n",
       "  <thead>\n",
       "    <tr style=\"text-align: right;\">\n",
       "      <th></th>\n",
       "      <th>Faixa de renda</th>\n",
       "      <th>Tipo de Escola</th>\n",
       "      <th>Porcentagem</th>\n",
       "      <th>count_alunos</th>\n",
       "    </tr>\n",
       "  </thead>\n",
       "  <tbody>\n",
       "    <tr>\n",
       "      <th>0</th>\n",
       "      <td>A</td>\n",
       "      <td>2</td>\n",
       "      <td>0.053369</td>\n",
       "      <td>1247262</td>\n",
       "    </tr>\n",
       "    <tr>\n",
       "      <th>1</th>\n",
       "      <td>B</td>\n",
       "      <td>2</td>\n",
       "      <td>0.298051</td>\n",
       "      <td>1247262</td>\n",
       "    </tr>\n",
       "    <tr>\n",
       "      <th>2</th>\n",
       "      <td>C</td>\n",
       "      <td>2</td>\n",
       "      <td>0.272149</td>\n",
       "      <td>1247262</td>\n",
       "    </tr>\n",
       "    <tr>\n",
       "      <th>3</th>\n",
       "      <td>D</td>\n",
       "      <td>2</td>\n",
       "      <td>0.088883</td>\n",
       "      <td>1247262</td>\n",
       "    </tr>\n",
       "    <tr>\n",
       "      <th>4</th>\n",
       "      <td>E</td>\n",
       "      <td>2</td>\n",
       "      <td>0.099118</td>\n",
       "      <td>1247262</td>\n",
       "    </tr>\n",
       "    <tr>\n",
       "      <th>5</th>\n",
       "      <td>F</td>\n",
       "      <td>2</td>\n",
       "      <td>0.039858</td>\n",
       "      <td>1247262</td>\n",
       "    </tr>\n",
       "    <tr>\n",
       "      <th>6</th>\n",
       "      <td>G</td>\n",
       "      <td>2</td>\n",
       "      <td>0.060533</td>\n",
       "      <td>1247262</td>\n",
       "    </tr>\n",
       "    <tr>\n",
       "      <th>7</th>\n",
       "      <td>H</td>\n",
       "      <td>2</td>\n",
       "      <td>0.028712</td>\n",
       "      <td>1247262</td>\n",
       "    </tr>\n",
       "    <tr>\n",
       "      <th>8</th>\n",
       "      <td>I</td>\n",
       "      <td>2</td>\n",
       "      <td>0.023314</td>\n",
       "      <td>1247262</td>\n",
       "    </tr>\n",
       "    <tr>\n",
       "      <th>9</th>\n",
       "      <td>J</td>\n",
       "      <td>2</td>\n",
       "      <td>0.009745</td>\n",
       "      <td>1247262</td>\n",
       "    </tr>\n",
       "    <tr>\n",
       "      <th>10</th>\n",
       "      <td>K</td>\n",
       "      <td>2</td>\n",
       "      <td>0.007525</td>\n",
       "      <td>1247262</td>\n",
       "    </tr>\n",
       "    <tr>\n",
       "      <th>11</th>\n",
       "      <td>L</td>\n",
       "      <td>2</td>\n",
       "      <td>0.004367</td>\n",
       "      <td>1247262</td>\n",
       "    </tr>\n",
       "    <tr>\n",
       "      <th>12</th>\n",
       "      <td>M</td>\n",
       "      <td>2</td>\n",
       "      <td>0.004023</td>\n",
       "      <td>1247262</td>\n",
       "    </tr>\n",
       "    <tr>\n",
       "      <th>13</th>\n",
       "      <td>N</td>\n",
       "      <td>2</td>\n",
       "      <td>0.004374</td>\n",
       "      <td>1247262</td>\n",
       "    </tr>\n",
       "    <tr>\n",
       "      <th>14</th>\n",
       "      <td>O</td>\n",
       "      <td>2</td>\n",
       "      <td>0.002822</td>\n",
       "      <td>1247262</td>\n",
       "    </tr>\n",
       "    <tr>\n",
       "      <th>15</th>\n",
       "      <td>P</td>\n",
       "      <td>2</td>\n",
       "      <td>0.001755</td>\n",
       "      <td>1247262</td>\n",
       "    </tr>\n",
       "    <tr>\n",
       "      <th>16</th>\n",
       "      <td>Q</td>\n",
       "      <td>2</td>\n",
       "      <td>0.001400</td>\n",
       "      <td>1247262</td>\n",
       "    </tr>\n",
       "    <tr>\n",
       "      <th>17</th>\n",
       "      <td>A</td>\n",
       "      <td>1</td>\n",
       "      <td>0.045136</td>\n",
       "      <td>3629376</td>\n",
       "    </tr>\n",
       "    <tr>\n",
       "      <th>18</th>\n",
       "      <td>B</td>\n",
       "      <td>1</td>\n",
       "      <td>0.245963</td>\n",
       "      <td>3629376</td>\n",
       "    </tr>\n",
       "    <tr>\n",
       "      <th>19</th>\n",
       "      <td>C</td>\n",
       "      <td>1</td>\n",
       "      <td>0.262856</td>\n",
       "      <td>3629376</td>\n",
       "    </tr>\n",
       "    <tr>\n",
       "      <th>20</th>\n",
       "      <td>D</td>\n",
       "      <td>1</td>\n",
       "      <td>0.103111</td>\n",
       "      <td>3629376</td>\n",
       "    </tr>\n",
       "    <tr>\n",
       "      <th>21</th>\n",
       "      <td>E</td>\n",
       "      <td>1</td>\n",
       "      <td>0.092640</td>\n",
       "      <td>3629376</td>\n",
       "    </tr>\n",
       "    <tr>\n",
       "      <th>22</th>\n",
       "      <td>F</td>\n",
       "      <td>1</td>\n",
       "      <td>0.044977</td>\n",
       "      <td>3629376</td>\n",
       "    </tr>\n",
       "    <tr>\n",
       "      <th>23</th>\n",
       "      <td>G</td>\n",
       "      <td>1</td>\n",
       "      <td>0.057163</td>\n",
       "      <td>3629376</td>\n",
       "    </tr>\n",
       "    <tr>\n",
       "      <th>24</th>\n",
       "      <td>H</td>\n",
       "      <td>1</td>\n",
       "      <td>0.037813</td>\n",
       "      <td>3629376</td>\n",
       "    </tr>\n",
       "    <tr>\n",
       "      <th>25</th>\n",
       "      <td>I</td>\n",
       "      <td>1</td>\n",
       "      <td>0.026906</td>\n",
       "      <td>3629376</td>\n",
       "    </tr>\n",
       "    <tr>\n",
       "      <th>26</th>\n",
       "      <td>J</td>\n",
       "      <td>1</td>\n",
       "      <td>0.015591</td>\n",
       "      <td>3629376</td>\n",
       "    </tr>\n",
       "    <tr>\n",
       "      <th>27</th>\n",
       "      <td>K</td>\n",
       "      <td>1</td>\n",
       "      <td>0.010928</td>\n",
       "      <td>3629376</td>\n",
       "    </tr>\n",
       "    <tr>\n",
       "      <th>28</th>\n",
       "      <td>L</td>\n",
       "      <td>1</td>\n",
       "      <td>0.008456</td>\n",
       "      <td>3629376</td>\n",
       "    </tr>\n",
       "    <tr>\n",
       "      <th>29</th>\n",
       "      <td>M</td>\n",
       "      <td>1</td>\n",
       "      <td>0.008249</td>\n",
       "      <td>3629376</td>\n",
       "    </tr>\n",
       "    <tr>\n",
       "      <th>30</th>\n",
       "      <td>N</td>\n",
       "      <td>1</td>\n",
       "      <td>0.011822</td>\n",
       "      <td>3629376</td>\n",
       "    </tr>\n",
       "    <tr>\n",
       "      <th>31</th>\n",
       "      <td>O</td>\n",
       "      <td>1</td>\n",
       "      <td>0.009642</td>\n",
       "      <td>3629376</td>\n",
       "    </tr>\n",
       "    <tr>\n",
       "      <th>32</th>\n",
       "      <td>P</td>\n",
       "      <td>1</td>\n",
       "      <td>0.008241</td>\n",
       "      <td>3629376</td>\n",
       "    </tr>\n",
       "    <tr>\n",
       "      <th>33</th>\n",
       "      <td>Q</td>\n",
       "      <td>1</td>\n",
       "      <td>0.010504</td>\n",
       "      <td>3629376</td>\n",
       "    </tr>\n",
       "    <tr>\n",
       "      <th>34</th>\n",
       "      <td>A</td>\n",
       "      <td>3</td>\n",
       "      <td>0.007753</td>\n",
       "      <td>218632</td>\n",
       "    </tr>\n",
       "    <tr>\n",
       "      <th>35</th>\n",
       "      <td>B</td>\n",
       "      <td>3</td>\n",
       "      <td>0.040287</td>\n",
       "      <td>218632</td>\n",
       "    </tr>\n",
       "    <tr>\n",
       "      <th>36</th>\n",
       "      <td>C</td>\n",
       "      <td>3</td>\n",
       "      <td>0.082422</td>\n",
       "      <td>218632</td>\n",
       "    </tr>\n",
       "    <tr>\n",
       "      <th>37</th>\n",
       "      <td>D</td>\n",
       "      <td>3</td>\n",
       "      <td>0.066436</td>\n",
       "      <td>218632</td>\n",
       "    </tr>\n",
       "    <tr>\n",
       "      <th>38</th>\n",
       "      <td>E</td>\n",
       "      <td>3</td>\n",
       "      <td>0.071888</td>\n",
       "      <td>218632</td>\n",
       "    </tr>\n",
       "    <tr>\n",
       "      <th>39</th>\n",
       "      <td>F</td>\n",
       "      <td>3</td>\n",
       "      <td>0.060837</td>\n",
       "      <td>218632</td>\n",
       "    </tr>\n",
       "    <tr>\n",
       "      <th>40</th>\n",
       "      <td>G</td>\n",
       "      <td>3</td>\n",
       "      <td>0.086694</td>\n",
       "      <td>218632</td>\n",
       "    </tr>\n",
       "    <tr>\n",
       "      <th>41</th>\n",
       "      <td>H</td>\n",
       "      <td>3</td>\n",
       "      <td>0.090847</td>\n",
       "      <td>218632</td>\n",
       "    </tr>\n",
       "    <tr>\n",
       "      <th>42</th>\n",
       "      <td>I</td>\n",
       "      <td>3</td>\n",
       "      <td>0.077399</td>\n",
       "      <td>218632</td>\n",
       "    </tr>\n",
       "    <tr>\n",
       "      <th>43</th>\n",
       "      <td>J</td>\n",
       "      <td>3</td>\n",
       "      <td>0.055111</td>\n",
       "      <td>218632</td>\n",
       "    </tr>\n",
       "    <tr>\n",
       "      <th>44</th>\n",
       "      <td>K</td>\n",
       "      <td>3</td>\n",
       "      <td>0.041060</td>\n",
       "      <td>218632</td>\n",
       "    </tr>\n",
       "    <tr>\n",
       "      <th>45</th>\n",
       "      <td>L</td>\n",
       "      <td>3</td>\n",
       "      <td>0.036824</td>\n",
       "      <td>218632</td>\n",
       "    </tr>\n",
       "    <tr>\n",
       "      <th>46</th>\n",
       "      <td>M</td>\n",
       "      <td>3</td>\n",
       "      <td>0.038160</td>\n",
       "      <td>218632</td>\n",
       "    </tr>\n",
       "    <tr>\n",
       "      <th>47</th>\n",
       "      <td>N</td>\n",
       "      <td>3</td>\n",
       "      <td>0.060769</td>\n",
       "      <td>218632</td>\n",
       "    </tr>\n",
       "    <tr>\n",
       "      <th>48</th>\n",
       "      <td>O</td>\n",
       "      <td>3</td>\n",
       "      <td>0.053464</td>\n",
       "      <td>218632</td>\n",
       "    </tr>\n",
       "    <tr>\n",
       "      <th>49</th>\n",
       "      <td>P</td>\n",
       "      <td>3</td>\n",
       "      <td>0.051017</td>\n",
       "      <td>218632</td>\n",
       "    </tr>\n",
       "    <tr>\n",
       "      <th>50</th>\n",
       "      <td>Q</td>\n",
       "      <td>3</td>\n",
       "      <td>0.079032</td>\n",
       "      <td>218632</td>\n",
       "    </tr>\n",
       "  </tbody>\n",
       "</table>\n",
       "</div>"
      ],
      "text/plain": [
       "   Faixa de renda Tipo de Escola  Porcentagem  count_alunos\n",
       "0               A              2     0.053369       1247262\n",
       "1               B              2     0.298051       1247262\n",
       "2               C              2     0.272149       1247262\n",
       "3               D              2     0.088883       1247262\n",
       "4               E              2     0.099118       1247262\n",
       "5               F              2     0.039858       1247262\n",
       "6               G              2     0.060533       1247262\n",
       "7               H              2     0.028712       1247262\n",
       "8               I              2     0.023314       1247262\n",
       "9               J              2     0.009745       1247262\n",
       "10              K              2     0.007525       1247262\n",
       "11              L              2     0.004367       1247262\n",
       "12              M              2     0.004023       1247262\n",
       "13              N              2     0.004374       1247262\n",
       "14              O              2     0.002822       1247262\n",
       "15              P              2     0.001755       1247262\n",
       "16              Q              2     0.001400       1247262\n",
       "17              A              1     0.045136       3629376\n",
       "18              B              1     0.245963       3629376\n",
       "19              C              1     0.262856       3629376\n",
       "20              D              1     0.103111       3629376\n",
       "21              E              1     0.092640       3629376\n",
       "22              F              1     0.044977       3629376\n",
       "23              G              1     0.057163       3629376\n",
       "24              H              1     0.037813       3629376\n",
       "25              I              1     0.026906       3629376\n",
       "26              J              1     0.015591       3629376\n",
       "27              K              1     0.010928       3629376\n",
       "28              L              1     0.008456       3629376\n",
       "29              M              1     0.008249       3629376\n",
       "30              N              1     0.011822       3629376\n",
       "31              O              1     0.009642       3629376\n",
       "32              P              1     0.008241       3629376\n",
       "33              Q              1     0.010504       3629376\n",
       "34              A              3     0.007753        218632\n",
       "35              B              3     0.040287        218632\n",
       "36              C              3     0.082422        218632\n",
       "37              D              3     0.066436        218632\n",
       "38              E              3     0.071888        218632\n",
       "39              F              3     0.060837        218632\n",
       "40              G              3     0.086694        218632\n",
       "41              H              3     0.090847        218632\n",
       "42              I              3     0.077399        218632\n",
       "43              J              3     0.055111        218632\n",
       "44              K              3     0.041060        218632\n",
       "45              L              3     0.036824        218632\n",
       "46              M              3     0.038160        218632\n",
       "47              N              3     0.060769        218632\n",
       "48              O              3     0.053464        218632\n",
       "49              P              3     0.051017        218632\n",
       "50              Q              3     0.079032        218632"
      ]
     },
     "execution_count": 110,
     "metadata": {},
     "output_type": "execute_result"
    }
   ],
   "source": [
    "dfpd_rendas_escolas"
   ]
  },
  {
   "cell_type": "code",
   "execution_count": 113,
   "metadata": {},
   "outputs": [
    {
     "name": "stdout",
     "output_type": "stream",
     "text": [
      "+-----------------------+-----------------------+\n",
      "|CO_MUNICIPIO_RESIDENCIA|NO_MUNICIPIO_RESIDENCIA|\n",
      "+-----------------------+-----------------------+\n",
      "|                1506807|               Santar�m|\n",
      "|                1504059|             M�e do Rio|\n",
      "|                1505502|            Paragominas|\n",
      "|                1507706|   S�o Sebasti�o da ...|\n",
      "|                1503903|                 Juruti|\n",
      "|                1500800|             Ananindeua|\n",
      "|                1504208|                 Marab�|\n",
      "|                1501402|                  Bel�m|\n",
      "|                1503606|               Itaituba|\n",
      "|                1507607|    S�o Miguel do Guam�|\n",
      "|                1506609|    Santa Maria do Par�|\n",
      "|                1508100|                Tucuru�|\n",
      "|                1500800|             Ananindeua|\n",
      "|                1501402|                  Bel�m|\n",
      "|                1500800|             Ananindeua|\n",
      "|                1502400|              Castanhal|\n",
      "|                1501402|                  Bel�m|\n",
      "|                1508159|                 Uruar�|\n",
      "|                1501402|                  Bel�m|\n",
      "|                1507300|     S�o F�lix do Xingu|\n",
      "+-----------------------+-----------------------+\n",
      "only showing top 20 rows\n",
      "\n"
     ]
    }
   ],
   "source": [
    "df_filtered.select(['CO_MUNICIPIO_RESIDENCIA', 'NO_MUNICIPIO_RESIDENCIA']).show()"
   ]
  },
  {
   "cell_type": "code",
   "execution_count": 114,
   "metadata": {},
   "outputs": [
    {
     "name": "stdout",
     "output_type": "stream",
     "text": [
      "'Enem dados.ipynb'       microdados_enem_2019.zip\r\n",
      " \u001b[0m\u001b[01;34mmicrodados_enem_2019\u001b[0m/   selarios.csv\r\n"
     ]
    }
   ],
   "source": []
  },
  {
   "cell_type": "code",
   "execution_count": null,
   "metadata": {},
   "outputs": [],
   "source": []
  }
 ],
 "metadata": {
  "kernelspec": {
   "display_name": "Python 3",
   "language": "python",
   "name": "python3"
  },
  "language_info": {
   "codemirror_mode": {
    "name": "ipython",
    "version": 3
   },
   "file_extension": ".py",
   "mimetype": "text/x-python",
   "name": "python",
   "nbconvert_exporter": "python",
   "pygments_lexer": "ipython3",
   "version": "3.9.2"
  }
 },
 "nbformat": 4,
 "nbformat_minor": 4
}
